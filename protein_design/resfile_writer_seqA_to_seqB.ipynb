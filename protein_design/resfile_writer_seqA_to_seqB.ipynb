{
 "cells": [
  {
   "cell_type": "code",
   "execution_count": 41,
   "metadata": {
    "collapsed": true
   },
   "outputs": [],
   "source": [
    "# easy python script to write a resfile converting sequence A into sequence B "
   ]
  },
  {
   "cell_type": "code",
   "execution_count": 1,
   "metadata": {},
   "outputs": [
    {
     "ename": "SyntaxError",
     "evalue": "Missing parentheses in call to 'print'. Did you mean print(\"1\"*80)? (<ipython-input-1-3e7e3801b18d>, line 2)",
     "output_type": "error",
     "traceback": [
      "\u001b[0;36m  File \u001b[0;32m\"<ipython-input-1-3e7e3801b18d>\"\u001b[0;36m, line \u001b[0;32m2\u001b[0m\n\u001b[0;31m    print \"1\"*80\u001b[0m\n\u001b[0m            ^\u001b[0m\n\u001b[0;31mSyntaxError\u001b[0m\u001b[0;31m:\u001b[0m Missing parentheses in call to 'print'. Did you mean print(\"1\"*80)?\n"
     ]
    }
   ],
   "source": [
    "#for i in range (1,80):\n",
    "print \"1\"*80"
   ]
  },
  {
   "cell_type": "code",
   "execution_count": 11,
   "metadata": {},
   "outputs": [],
   "source": [
    "FFL001 = \"11111111111111111111111111111111111111111111111111111111111111111111111111111111\""
   ]
  },
  {
   "cell_type": "code",
   "execution_count": 24,
   "metadata": {},
   "outputs": [],
   "source": [
    "FFLM = \"SCDQIKNYIDKQLLPIVNKAGCSRPEEVLERIRRALKKMGDTSCFDEILRGIKEIKCKANGGEEEMRKVEQEARKFAKKW\""
   ]
  },
  {
   "cell_type": "code",
   "execution_count": 25,
   "metadata": {},
   "outputs": [
    {
     "name": "stdout",
     "output_type": "stream",
     "text": [
      "['1', '1', '1', '1', '1', '1', '1', '1', '1', '1', '1', '1', '1', '1', '1', '1', '1', '1', '1', '1', '1', '1', '1', '1', '1', '1', '1', '1', '1', '1', '1', '1', '1', '1', '1', '1', '1', '1', '1', '1', '1', '1', '1', '1', '1', '1', '1', '1', '1', '1', '1', '1', '1', '1', '1', '1', '1', '1', '1', '1', '1', '1', '1', '1', '1', '1', '1', '1', '1', '1', '1', '1', '1', '1', '1', '1', '1', '1', '1', '1']\n",
      "['S', 'C', 'D', 'Q', 'I', 'K', 'N', 'Y', 'I', 'D', 'K', 'Q', 'L', 'L', 'P', 'I', 'V', 'N', 'K', 'A', 'G', 'C', 'S', 'R', 'P', 'E', 'E', 'V', 'L', 'E', 'R', 'I', 'R', 'R', 'A', 'L', 'K', 'K', 'M', 'G', 'D', 'T', 'S', 'C', 'F', 'D', 'E', 'I', 'L', 'R', 'G', 'I', 'K', 'E', 'I', 'K', 'C', 'K', 'A', 'N', 'G', 'G', 'E', 'E', 'E', 'M', 'R', 'K', 'V', 'E', 'Q', 'E', 'A', 'R', 'K', 'F', 'A', 'K', 'K', 'W']\n"
     ]
    }
   ],
   "source": [
    "resfile =[]\n",
    "FFLresidues =[]\n",
    "FFLMresidues =[]\n",
    "for p,c in enumerate(FFL001): \n",
    "    FFLresidues.append(c) \n",
    "print (FFLresidues)\n",
    "for p,e in enumerate(FFLM): \n",
    "    FFLMresidues.append(e) \n",
    "print (FFLMresidues)"
   ]
  },
  {
   "cell_type": "code",
   "execution_count": 26,
   "metadata": {},
   "outputs": [
    {
     "name": "stdout",
     "output_type": "stream",
     "text": [
      "[1, 2, 3, 4, 5, 6, 7, 8, 9, 10, 11, 12, 13, 14, 15, 16, 17, 18, 19, 20, 21, 22, 23, 24, 25, 26, 27, 28, 29, 30, 31, 32, 33, 34, 35, 36, 37, 38, 39, 40, 41, 42, 43, 44, 45, 46, 47, 48, 49, 50, 51, 52, 53, 54, 55, 56, 57, 58, 59, 60, 61, 62, 63, 64, 65, 66, 67, 68, 69, 70, 71, 72, 73, 74, 75, 76, 77, 78, 79, 80]\n"
     ]
    }
   ],
   "source": [
    "resfile = []\n",
    "for i in range(len(FFLresidues)):\n",
    "    if FFLresidues[i] == FFLMresidues[i]:\n",
    "        continue\n",
    "    else:\n",
    "        resfile.append(i+1)\n",
    "print (resfile)"
   ]
  },
  {
   "cell_type": "code",
   "execution_count": 27,
   "metadata": {
    "scrolled": true
   },
   "outputs": [
    {
     "name": "stdout",
     "output_type": "stream",
     "text": [
      "1 F PIKAA S\n",
      "2 F PIKAA C\n",
      "3 F PIKAA D\n",
      "4 F PIKAA Q\n",
      "5 F PIKAA I\n",
      "6 F PIKAA K\n",
      "7 F PIKAA N\n",
      "8 F PIKAA Y\n",
      "9 F PIKAA I\n",
      "10 F PIKAA D\n",
      "11 F PIKAA K\n",
      "12 F PIKAA Q\n",
      "13 F PIKAA L\n",
      "14 F PIKAA L\n",
      "15 F PIKAA P\n",
      "16 F PIKAA I\n",
      "17 F PIKAA V\n",
      "18 F PIKAA N\n",
      "19 F PIKAA K\n",
      "20 F PIKAA A\n",
      "21 F PIKAA G\n",
      "22 F PIKAA C\n",
      "23 F PIKAA S\n",
      "24 F PIKAA R\n",
      "25 F PIKAA P\n",
      "26 F PIKAA E\n",
      "27 F PIKAA E\n",
      "28 F PIKAA V\n",
      "29 F PIKAA L\n",
      "30 F PIKAA E\n",
      "31 F PIKAA R\n",
      "32 F PIKAA I\n",
      "33 F PIKAA R\n",
      "34 F PIKAA R\n",
      "35 F PIKAA A\n",
      "36 F PIKAA L\n",
      "37 F PIKAA K\n",
      "38 F PIKAA K\n",
      "39 F PIKAA M\n",
      "40 F PIKAA G\n",
      "41 F PIKAA D\n",
      "42 F PIKAA T\n",
      "43 F PIKAA S\n",
      "44 F PIKAA C\n",
      "45 F PIKAA F\n",
      "46 F PIKAA D\n",
      "47 F PIKAA E\n",
      "48 F PIKAA I\n",
      "49 F PIKAA L\n",
      "50 F PIKAA R\n",
      "51 F PIKAA G\n",
      "52 F PIKAA I\n",
      "53 F PIKAA K\n",
      "54 F PIKAA E\n",
      "55 F PIKAA I\n",
      "56 F PIKAA K\n",
      "57 F PIKAA C\n",
      "58 F PIKAA K\n",
      "59 F PIKAA A\n",
      "60 F PIKAA N\n",
      "61 F PIKAA G\n",
      "62 F PIKAA G\n",
      "63 F PIKAA E\n",
      "64 F PIKAA E\n",
      "65 F PIKAA E\n",
      "66 F PIKAA M\n",
      "67 F PIKAA R\n",
      "68 F PIKAA K\n",
      "69 F PIKAA V\n",
      "70 F PIKAA E\n",
      "71 F PIKAA Q\n",
      "72 F PIKAA E\n",
      "73 F PIKAA A\n",
      "74 F PIKAA R\n",
      "75 F PIKAA K\n",
      "76 F PIKAA F\n",
      "77 F PIKAA A\n",
      "78 F PIKAA K\n",
      "79 F PIKAA K\n",
      "80 F PIKAA W\n"
     ]
    }
   ],
   "source": [
    "chain = \"F\"\n",
    "for i in resfile: \n",
    "    print( i, chain, \"PIKAA\", FFLMresidues[i-1])"
   ]
  },
  {
   "cell_type": "code",
   "execution_count": null,
   "metadata": {},
   "outputs": [],
   "source": []
  },
  {
   "cell_type": "code",
   "execution_count": null,
   "metadata": {
    "collapsed": true
   },
   "outputs": [],
   "source": []
  }
 ],
 "metadata": {
  "kernelspec": {
   "display_name": "Python 2",
   "language": "python",
   "name": "python2"
  },
  "language_info": {
   "codemirror_mode": {
    "name": "ipython",
    "version": 3
   },
   "file_extension": ".py",
   "mimetype": "text/x-python",
   "name": "python",
   "nbconvert_exporter": "python",
   "pygments_lexer": "ipython3",
   "version": "3.7.5"
  }
 },
 "nbformat": 4,
 "nbformat_minor": 2
}
